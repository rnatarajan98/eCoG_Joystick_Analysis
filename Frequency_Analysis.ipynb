{
 "cells": [
  {
   "cell_type": "code",
   "execution_count": 1,
   "id": "5f6438d7",
   "metadata": {},
   "outputs": [
    {
     "name": "stdout",
     "output_type": "stream",
     "text": [
      "Is cuda? False\n"
     ]
    }
   ],
   "source": [
    "#Setup\n",
    "\n",
    "# Install Packages\n",
    "import sys\n",
    "!{sys.executable} -m pip install numpy --quiet\n",
    "!{sys.executable} -m pip install matplotlib --quiet\n",
    "!{sys.executable} -m pip install seaborn --quiet\n",
    "!{sys.executable} -m pip install sklearn --quiet\n",
    "!{sys.executable} -m pip install torch --quiet\n",
    "\n",
    "from sklearn import preprocessing\n",
    "import os, requests\n",
    "from matplotlib import rcParams \n",
    "from matplotlib import pyplot as plt\n",
    "import numpy as np\n",
    "import seaborn as sns\n",
    "import pandas as pd\n",
    "from sklearn.decomposition import PCA\n",
    "from sklearn import datasets, linear_model\n",
    "from sklearn.metrics import mean_squared_error, r2_score\n",
    "import math\n",
    "from sklearn.linear_model import LinearRegression\n",
    "import torch\n",
    "from torch.autograd import Variable\n",
    "import torch.nn as nn\n",
    "\n",
    "# Data Retrieval\n",
    "\n",
    "fname = 'joystick_track.npz'\n",
    "url = \"https://osf.io/6jncm/download\"\n",
    "\n",
    "print('Is cuda?', torch.cuda.is_available())\n",
    "\n",
    "if not os.path.isfile(fname):\n",
    "  try:\n",
    "    r = requests.get(url)\n",
    "  except requests.ConnectionError:\n",
    "    print(\"!!! Failed to download data !!!\")\n",
    "  else:\n",
    "    if r.status_code != requests.codes.ok:\n",
    "      print(\"!!! Failed to download data !!!\")\n",
    "    else:\n",
    "      with open(fname, \"wb\") as fid:\n",
    "        fid.write(r.content)\n",
    "# Import matplotlib and set styling\n",
    "rcParams['figure.figsize'] = [20, 4]\n",
    "rcParams['font.size'] =15\n",
    "rcParams['axes.spines.top'] = False\n",
    "rcParams['axes.spines.right'] = False\n",
    "rcParams['figure.autolayout'] = True\n",
    "\n",
    "colourmap_diverge = sns.diverging_palette(321, 172, s=100, n=100, center = \"light\", as_cmap=True)\n",
    "colourmap = sns.color_palette(\"rocket\", as_cmap=True)\n",
    "colourmap = sns.light_palette(\"#30887c\", as_cmap=True)\n",
    "colourmap_diverge.set_bad(\"black\", alpha=0)\n",
    "colourmap.set_bad(\"black\", alpha=0)\n",
    "\n",
    "# Data Loading\n",
    "alldat = np.load(fname, allow_pickle=True)['dat']\n",
    "\n",
    "# Select just one of the recordings here. This is subject 1, block 1.\n",
    "dat = alldat[0, 3]"
   ]
  },
  {
   "cell_type": "code",
   "execution_count": 3,
   "id": "176962b3",
   "metadata": {},
   "outputs": [
    {
     "name": "stdout",
     "output_type": "stream",
     "text": [
      "(259920, 48)\n"
     ]
    }
   ],
   "source": [
    "V = dat['V']\n",
    "print(V.shape)\n",
    "nchan = V.shape[1] #Number of channels\n",
    "nt = V.shape[0]    #Number of data points"
   ]
  },
  {
   "cell_type": "code",
   "execution_count": 6,
   "id": "8f402e35",
   "metadata": {},
   "outputs": [],
   "source": [
    "def signal_power_static(input_signal):\n",
    "    #The power of a signal is the sum of the absolute squares of its time-domain samples divided \n",
    "    #by the signal length, or, equivalently, the square of its RMS level.\n",
    "    #my approach\n",
    "    \n",
    "    #input: np.array of (n_sample, time_length)\n",
    "    \n",
    "    n_sample = input_signal.shape[0]\n",
    "    n_time = input_signal.shape[1]\n",
    "    \n",
    "    results_array = np.empty((n_sample, 1))\n",
    "    \n",
    "    for i in range(n_sample):\n",
    "        sum_sample = 0\n",
    "        for j in range(n_time):\n",
    "            sum_sample += input_signal[i, j]*input_signal[i, j]\n",
    "        sum_sample = sum_sample/n_time\n",
    "        results_array[i] = sum_sample\n",
    "    \n",
    "    return results_array\n",
    "\n",
    "def signal_power_windowed(input_signal, window_length):\n",
    "        a"
   ]
  },
  {
   "cell_type": "code",
   "execution_count": 12,
   "id": "7b4379b6",
   "metadata": {},
   "outputs": [
    {
     "name": "stdout",
     "output_type": "stream",
     "text": [
      "[[1.00001226]\n",
      " [1.00001454]\n",
      " [1.00000859]\n",
      " [1.00001139]\n",
      " [1.00000882]\n",
      " [1.00000995]\n",
      " [1.00001001]\n",
      " [1.00000634]\n",
      " [1.00000676]\n",
      " [1.00001129]\n",
      " [1.00000821]\n",
      " [1.00001118]\n",
      " [1.00000676]\n",
      " [1.00000894]\n",
      " [1.00000918]\n",
      " [1.00000721]\n",
      " [1.00000571]\n",
      " [1.00000609]\n",
      " [1.00001062]\n",
      " [1.0000083 ]\n",
      " [1.00000475]\n",
      " [1.00000948]\n",
      " [1.00000993]\n",
      " [1.00000805]\n",
      " [1.00001038]\n",
      " [1.00000828]\n",
      " [1.00001023]\n",
      " [1.00000334]\n",
      " [1.00000899]\n",
      " [1.00000946]\n",
      " [1.00000915]\n",
      " [1.00000902]\n",
      " [1.00000896]\n",
      " [1.00000896]\n",
      " [1.00000703]\n",
      " [1.00000965]\n",
      " [1.00001224]\n",
      " [1.00000837]\n",
      " [1.00000896]\n",
      " [1.00000905]\n",
      " [1.00000759]\n",
      " [1.00000884]\n",
      " [1.0000061 ]\n",
      " [1.00000768]\n",
      " [1.0000091 ]\n",
      " [1.00000554]\n",
      " [1.00000566]\n",
      " [1.00001628]]\n"
     ]
    }
   ],
   "source": [
    "c = 1\n",
    "\n"
   ]
  },
  {
   "cell_type": "code",
   "execution_count": null,
   "id": "bfa61758",
   "metadata": {},
   "outputs": [],
   "source": []
  },
  {
   "cell_type": "code",
   "execution_count": null,
   "id": "826b9649",
   "metadata": {},
   "outputs": [],
   "source": []
  }
 ],
 "metadata": {
  "kernelspec": {
   "display_name": "Python 3 (ipykernel)",
   "language": "python",
   "name": "python3"
  },
  "language_info": {
   "codemirror_mode": {
    "name": "ipython",
    "version": 3
   },
   "file_extension": ".py",
   "mimetype": "text/x-python",
   "name": "python",
   "nbconvert_exporter": "python",
   "pygments_lexer": "ipython3",
   "version": "3.10.4"
  }
 },
 "nbformat": 4,
 "nbformat_minor": 5
}
