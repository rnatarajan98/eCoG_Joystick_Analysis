{
 "cells": [
  {
   "cell_type": "code",
   "execution_count": 8,
   "id": "9fbea52b",
   "metadata": {},
   "outputs": [
    {
     "name": "stderr",
     "output_type": "stream",
     "text": [
      "WARNING: You are using pip version 21.3.1; however, version 22.0.4 is available.\n",
      "You should consider upgrading via the 'C:\\Users\\richa\\AppData\\Local\\Microsoft\\WindowsApps\\PythonSoftwareFoundation.Python.3.9_qbz5n2kfra8p0\\python.exe -m pip install --upgrade pip' command.\n",
      "WARNING: You are using pip version 21.3.1; however, version 22.0.4 is available.\n",
      "You should consider upgrading via the 'C:\\Users\\richa\\AppData\\Local\\Microsoft\\WindowsApps\\PythonSoftwareFoundation.Python.3.9_qbz5n2kfra8p0\\python.exe -m pip install --upgrade pip' command.\n",
      "WARNING: You are using pip version 21.3.1; however, version 22.0.4 is available.\n",
      "You should consider upgrading via the 'C:\\Users\\richa\\AppData\\Local\\Microsoft\\WindowsApps\\PythonSoftwareFoundation.Python.3.9_qbz5n2kfra8p0\\python.exe -m pip install --upgrade pip' command.\n",
      "WARNING: You are using pip version 21.3.1; however, version 22.0.4 is available.\n",
      "You should consider upgrading via the 'C:\\Users\\richa\\AppData\\Local\\Microsoft\\WindowsApps\\PythonSoftwareFoundation.Python.3.9_qbz5n2kfra8p0\\python.exe -m pip install --upgrade pip' command.\n",
      "WARNING: You are using pip version 21.3.1; however, version 22.0.4 is available.\n",
      "You should consider upgrading via the 'C:\\Users\\richa\\AppData\\Local\\Microsoft\\WindowsApps\\PythonSoftwareFoundation.Python.3.9_qbz5n2kfra8p0\\python.exe -m pip install --upgrade pip' command.\n"
     ]
    }
   ],
   "source": [
    "#Setup\n",
    "\n",
    "# Install Packages\n",
    "import sys\n",
    "!{sys.executable} -m pip install numpy --quiet\n",
    "!{sys.executable} -m pip install matplotlib --quiet\n",
    "!{sys.executable} -m pip install seaborn --quiet\n",
    "!{sys.executable} -m pip install sklearn --quiet\n",
    "!{sys.executable} -m pip install torch --quiet\n",
    "\n",
    "from sklearn import preprocessing\n",
    "import os, requests\n",
    "from matplotlib import rcParams \n",
    "from matplotlib import pyplot as plt\n",
    "import numpy as np\n",
    "import seaborn as sns\n",
    "import pandas as pd\n",
    "from sklearn.decomposition import PCA\n",
    "from sklearn import datasets, linear_model\n",
    "from sklearn.metrics import mean_squared_error, r2_score\n",
    "import math\n",
    "from sklearn.linear_model import LinearRegression\n",
    "import torch\n",
    "\n",
    "# Data Retrieval\n",
    "\n",
    "fname = 'joystick_track.npz'\n",
    "url = \"https://osf.io/6jncm/download\"\n",
    "\n",
    "if not os.path.isfile(fname):\n",
    "  try:\n",
    "    r = requests.get(url)\n",
    "  except requests.ConnectionError:\n",
    "    print(\"!!! Failed to download data !!!\")\n",
    "  else:\n",
    "    if r.status_code != requests.codes.ok:\n",
    "      print(\"!!! Failed to download data !!!\")\n",
    "    else:\n",
    "      with open(fname, \"wb\") as fid:\n",
    "        fid.write(r.content)\n",
    "# Import matplotlib and set styling\n",
    "rcParams['figure.figsize'] = [20, 4]\n",
    "rcParams['font.size'] =15\n",
    "rcParams['axes.spines.top'] = False\n",
    "rcParams['axes.spines.right'] = False\n",
    "rcParams['figure.autolayout'] = True\n",
    "\n",
    "colourmap_diverge = sns.diverging_palette(321, 172, s=100, n=100, center = \"light\", as_cmap=True)\n",
    "colourmap = sns.color_palette(\"rocket\", as_cmap=True)\n",
    "colourmap = sns.light_palette(\"#30887c\", as_cmap=True)\n",
    "colourmap_diverge.set_bad(\"black\", alpha=0)\n",
    "colourmap.set_bad(\"black\", alpha=0)\n",
    "\n",
    "# Data Loading\n",
    "alldat = np.load(fname, allow_pickle=True)['dat']\n",
    "\n",
    "# Select just one of the recordings here. This is subject 1, block 1.\n",
    "dat = alldat[0, 3]"
   ]
  },
  {
   "cell_type": "code",
   "execution_count": 2,
   "id": "f1424d8c",
   "metadata": {},
   "outputs": [
    {
     "name": "stdout",
     "output_type": "stream",
     "text": [
      "134360 64\n"
     ]
    }
   ],
   "source": [
    "# Load patient 2\n",
    "dat = alldat[0, 2]\n",
    "\n",
    "V = dat['V']\n",
    "nt, nchan = V.shape\n",
    "print(nt, nchan)\n",
    "\n",
    "cx = dat['cursorX'].flatten()\n",
    "cy = dat['cursorY'].flatten()"
   ]
  },
  {
   "cell_type": "code",
   "execution_count": 3,
   "id": "fe5acce5",
   "metadata": {},
   "outputs": [],
   "source": [
    "# split into 80:20 train test split\n",
    "nt, nchan = V.shape\n",
    "\n",
    "boundary = math.ceil(nt*0.8)\n",
    "\n",
    "V_train = V[:boundary, :]\n",
    "V_test = V[boundary:, :]\n",
    "\n",
    "cx_train = cx[:boundary]\n",
    "cx_test = cx[boundary:]\n",
    "cy_train = cy[:boundary]\n",
    "cy_test = cy[boundary:]"
   ]
  },
  {
   "cell_type": "code",
   "execution_count": 4,
   "id": "656cd9cd",
   "metadata": {},
   "outputs": [],
   "source": [
    "# Define normalisation of voltage channels\n",
    "\n",
    "Vmax =  max((max(x) for x in dat['V']))\n",
    "Vmin = min((min(x) for x in dat['V']))\n",
    "\n",
    "def Vnormalise(_V):\n",
    "    _V_norm = (_V - Vmin)/(Vmax - Vmin)\n",
    "    return _V_norm\n",
    "\n",
    "def normalise(_V):\n",
    "    _V_norm = (_V - min(_V))/(max(_V) - min(_V))\n",
    "    return _V_norm\n"
   ]
  },
  {
   "cell_type": "code",
   "execution_count": 11,
   "id": "8f5cf6fb",
   "metadata": {},
   "outputs": [],
   "source": [
    "#Define matrix construction\n",
    "import numpy as np\n",
    "from sklearn.linear_model import LinearRegression\n",
    "\n",
    "def construct_matrices (_V, _cx, _cy, _h, _l, _norm):\n",
    "    # Construct test matrices\n",
    "    nt, nchan = _V.shape\n",
    "    \n",
    "    # Normalise, if desired\n",
    "    if _norm == True:\n",
    "        for c in range(nchan):\n",
    "            _V[:,c] = normalise(_V[:,c])\n",
    "\n",
    "    # Generate feature indices\n",
    "    i0 = _h*_l\n",
    "    iN = nt\n",
    "    test_step = 1\n",
    "    indices = range(i0, iN, test_step)\n",
    "\n",
    "    # Generate \n",
    "    no_obs = len(indices)\n",
    "    no_vars_rgand = 2    #Number of regressand variables (x and y)\n",
    "    no_vars_rgor = nchan * (_h+1)\n",
    "\n",
    "    regressand = np.zeros((no_obs, no_vars_rgand))\n",
    "    regressor = np.zeros((no_obs, no_vars_rgor))\n",
    "    \n",
    "    for j, ind in enumerate(indices):\n",
    "        regressand[j, 0] = _cx[ind]\n",
    "        regressand[j, 1] = _cy[ind]\n",
    "        for i, chan in enumerate(range(nchan)):\n",
    "            for h in range(_h+1):\n",
    "                regressor[j, (_h+1)*i + h] = _V[ind - h*_l, i]\n",
    "                \n",
    "    regressor = torch.from_numpy(regressor)\n",
    "    regressand = torch.from_numpy(regressand)\n",
    "    return regressor, regressand"
   ]
  },
  {
   "cell_type": "code",
   "execution_count": 6,
   "id": "c949cc1b",
   "metadata": {},
   "outputs": [],
   "source": [
    "def MLP(_V_train, _cx_train, _cy_train, _V_test, _cx_test, _cy_test, _h, _l):\n",
    "    _regressor_train, _regressand_train = construct_matrices(_V_train, _cx_train, _cy_train, _h, _l, normalise=True)\n",
    "    _regressor_test, _regressand_test = construct_matrices(_V_test, _cx_test, _cy_test, _h, _l, normalise=True)\n",
    "\n",
    "\n",
    "    _model = LR_fit(_regressor_train, _regressand_train)\n",
    "    _prediction = LR_predict(_regressor_test, _model)\n",
    "\n",
    "    return _regressand_test, _prediction\n",
    "\n",
    "def MLP_fit(regor, regand):\n",
    "    reg = LinearRegression()\n",
    "    reg.fit(regor, regand)\n",
    "    #print('shape:', reg.coef_.shape)\n",
    "    #print('score:', reg.score(regor, regand))\n",
    "    return reg\n",
    "\n",
    "def LR_predict(regor, _model):\n",
    "    predict = _model.predict(regor[:,:])\n",
    "    return predict\n",
    "\n",
    "        "
   ]
  },
  {
   "cell_type": "code",
   "execution_count": 12,
   "id": "865eba88",
   "metadata": {},
   "outputs": [
    {
     "name": "stdout",
     "output_type": "stream",
     "text": [
      "64\n",
      "torch.Size([107438, 384])\n",
      "torch.Size([107438, 2])\n"
     ]
    }
   ],
   "source": [
    "_regressor_train, _regressand_train = construct_matrices(V_train, cx_train, cy_train, 5, 10, _norm=True)\n",
    "\n",
    "print(nchan)\n",
    "print(_regressor_train.shape)\n",
    "print(_regressand_train.shape)"
   ]
  },
  {
   "cell_type": "code",
   "execution_count": null,
   "id": "bc4b8496",
   "metadata": {},
   "outputs": [],
   "source": []
  }
 ],
 "metadata": {
  "kernelspec": {
   "display_name": "Python 3 (ipykernel)",
   "language": "python",
   "name": "python3"
  },
  "language_info": {
   "codemirror_mode": {
    "name": "ipython",
    "version": 3
   },
   "file_extension": ".py",
   "mimetype": "text/x-python",
   "name": "python",
   "nbconvert_exporter": "python",
   "pygments_lexer": "ipython3",
   "version": "3.9.12"
  }
 },
 "nbformat": 4,
 "nbformat_minor": 5
}
